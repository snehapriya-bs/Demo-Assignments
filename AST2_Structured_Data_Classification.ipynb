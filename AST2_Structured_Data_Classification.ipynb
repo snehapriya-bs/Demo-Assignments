{
  "cells": [
    {
      "cell_type": "markdown",
      "metadata": {
        "id": "SZlu0P9jj_ei"
      },
      "source": [
        "## Problem Statement"
      ]
    },
    {
      "cell_type": "markdown",
      "metadata": {
        "id": "3xaJosu2kfGE"
      },
      "source": [
        "To predict whether a patient has a heart disease."
      ]
    },
    {
      "cell_type": "markdown",
      "metadata": {
        "id": "8N0iS4ipU_XM"
      },
      "source": [
        "## Learning Objectives"
      ]
    },
    {
      "cell_type": "markdown",
      "metadata": {
        "id": "K8OXq65pVDDS"
      },
      "source": [
        "At the end of the experiment, you will be able to\n",
        "\n",
        "* understand the Cleveland Clinic Foundation for Heart Disease dataset\n",
        "* pre-process this dataset\n",
        "* build a neural network architecture/model using Keras sequential or functional api\n",
        "* perform model training\n",
        "* perform inference on an unseen data\n",
        "* build a Gradio interface for this application"
      ]
    },
    {
      "cell_type": "markdown",
      "metadata": {
        "id": "5zBPlw87J9cF"
      },
      "source": [
        "## Introduction\n",
        "\n",
        "This example demonstrates how to do structured data classification, starting from a raw\n",
        "CSV file. Our data includes both numerical and categorical features. We will do preprocessing to normalize the numerical features and vectorize the categorical\n",
        "ones."
      ]
    },
    {
      "cell_type": "markdown",
      "metadata": {
        "id": "bScMHnbIaxsQ"
      },
      "source": [
        "### Dataset\n",
        "\n",
        "[Our dataset](https://archive.ics.uci.edu/ml/datasets/heart+Disease) is provided by the\n",
        "Cleveland Clinic Foundation for Heart Disease.\n",
        "It's a CSV file with 303 rows. Each row contains information about a patient (a\n",
        "**sample**), and each column describes an attribute of the patient (a **feature**). We\n",
        "use the features to predict whether a patient has a heart disease (**binary\n",
        "classification**).\n",
        "\n",
        "Here's the description of each feature:\n",
        "\n",
        "Column| Description| Feature Type\n",
        "------------|--------------------|----------------------\n",
        "Age | Age in years | Numerical\n",
        "Sex | (1 = male; 0 = female) | Categorical\n",
        "CP | Chest pain type (0, 1, 2, 3, 4) | Categorical\n",
        "Trestbpd | Resting blood pressure (in mm Hg on admission) | Numerical\n",
        "Chol | Serum cholesterol in mg/dl | Numerical\n",
        "FBS | fasting blood sugar in 120 mg/dl (1 = true; 0 = false) | Categorical\n",
        "RestECG | Resting electrocardiogram results (0, 1, 2) | Categorical\n",
        "Thalach | Maximum heart rate achieved | Numerical\n",
        "Exang | Exercise induced angina (1 = yes; 0 = no) | Categorical\n",
        "Oldpeak | ST depression induced by exercise relative to rest | Numerical\n",
        "Slope | Slope of the peak exercise ST segment | Numerical\n",
        "CA | Number of major vessels (0-3) colored by fluoroscopy | Both numerical & categorical\n",
        "Thal | 3 = normal; 6 = fixed defect; 7 = reversible defect | Categorical\n",
        "Target | Diagnosis of heart disease (1 = true; 0 = false) | Target"
      ]
    },
    {
      "cell_type": "markdown",
      "metadata": {
        "id": "1TmXyc2bRFvM"
      },
      "source": [
        "### Import Required Packages"
      ]
    },
    {
      "cell_type": "code",
      "execution_count": null,
      "metadata": {
        "id": "MK4EbY6xaxsR"
      },
      "outputs": [],
      "source": [
        "import tensorflow as tf\n",
        "import numpy as np\n",
        "import pandas as pd\n",
        "from tensorflow import keras\n",
        "from tensorflow.keras import layers"
      ]
    },
    {
      "cell_type": "markdown",
      "metadata": {
        "id": "V7IEMgJ8jnGr"
      },
      "source": [
        "### Load data into a Pandas dataframe\n",
        "\n",
        "Hint:: pd.read_csv"
      ]
    },
    {
      "cell_type": "code",
      "execution_count": null,
      "metadata": {
        "id": "6N7lrEsZaxsT"
      },
      "outputs": [],
      "source": [
        "file_url = \"/content/heart.csv\"\n",
        "## YOUR CODE HERE"
      ]
    },
    {
      "cell_type": "markdown",
      "metadata": {
        "id": "M-f50aCJaxsT"
      },
      "source": [
        "Check the shape of the dataset:"
      ]
    },
    {
      "cell_type": "code",
      "execution_count": null,
      "metadata": {
        "id": "nrNUOPFVaxsT"
      },
      "outputs": [],
      "source": [
        "## YOUR CODE HERE"
      ]
    },
    {
      "cell_type": "markdown",
      "metadata": {
        "id": "ptTMb_dsaxsU"
      },
      "source": [
        "Check the preview of a few samples:\n",
        "\n",
        "Hint:: head()"
      ]
    },
    {
      "cell_type": "code",
      "execution_count": null,
      "metadata": {
        "id": "zHjlz0HhaxsU"
      },
      "outputs": [],
      "source": [
        "## YOUR CODE HERE"
      ]
    },
    {
      "cell_type": "markdown",
      "metadata": {
        "id": "Glx6sm_daxsU"
      },
      "source": [
        "Draw some inference from the data. What does the target column indicate?\n",
        "\n",
        "The last column, \"target\", indicates whether the patient has a heart disease (1) or not\n",
        "(0)."
      ]
    },
    {
      "cell_type": "markdown",
      "metadata": {
        "id": "gLwe9H-QyY8s"
      },
      "source": [
        "### Missing values"
      ]
    },
    {
      "cell_type": "code",
      "execution_count": null,
      "metadata": {
        "id": "L7myRw8fRML_"
      },
      "outputs": [],
      "source": [
        "# Check if any missing values is present\n",
        "## YOUR CODE HERE"
      ]
    },
    {
      "cell_type": "markdown",
      "metadata": {
        "id": "_4t2pkXMPmb0"
      },
      "source": [
        "### Show the unique values present in each categorical columns\n",
        "\n",
        "- Remove the rows which has '1' and '2' as values in `thal` column"
      ]
    },
    {
      "cell_type": "code",
      "execution_count": null,
      "metadata": {
        "id": "vKTkEHCDVHO-"
      },
      "outputs": [],
      "source": [
        "# Show all the columns in dataframe\n",
        "## YOUR CODE HERE"
      ]
    },
    {
      "cell_type": "code",
      "execution_count": null,
      "metadata": {
        "id": "dlEsu12GRWjV"
      },
      "outputs": [],
      "source": [
        "# Print the unique values present in each categorical columns\n",
        "\n",
        "categorical_cols = ['sex', 'cp', 'fbs', 'restecg', 'exang', 'ca', 'thal']\n",
        "\n",
        "## YOUR CODE HERE\n"
      ]
    },
    {
      "cell_type": "code",
      "execution_count": null,
      "metadata": {
        "id": "g5wU-xHZSm3B"
      },
      "outputs": [],
      "source": [
        "# Print the unique values present in each categorical columns along with their counts\n",
        "\n",
        "## YOUR CODE HERE\n"
      ]
    },
    {
      "cell_type": "markdown",
      "metadata": {
        "id": "iY17c68DQWQX"
      },
      "source": [
        "- Remove the rows which has '1' and '2' as values in `thal` column"
      ]
    },
    {
      "cell_type": "code",
      "execution_count": null,
      "metadata": {
        "id": "7D5_ykL3ya-L"
      },
      "outputs": [],
      "source": [
        "# Find indices of the rows which has '1', '2' as values in `thal` column\n",
        "\n",
        "idx = ## YOUR CODE HERE\n",
        "idx"
      ]
    },
    {
      "cell_type": "code",
      "execution_count": null,
      "metadata": {
        "id": "Bpm1GBOZ0EcR"
      },
      "outputs": [],
      "source": [
        "# Drop the above indexed rows\n",
        "\n",
        "## YOUR CODE HERE"
      ]
    },
    {
      "cell_type": "code",
      "execution_count": null,
      "metadata": {
        "id": "XMTRXVU0Qfzm"
      },
      "outputs": [],
      "source": [
        "# Recheck the unique values present in each categorical columns\n",
        "\n",
        "## YOUR CODE HERE"
      ]
    },
    {
      "cell_type": "markdown",
      "metadata": {
        "id": "Wy7BIbsRQmpD"
      },
      "source": [
        "### Convert the categorical values present in `thal` column to numerical labels\n",
        "\n",
        "Hint: Create a dictionary mapping"
      ]
    },
    {
      "cell_type": "code",
      "execution_count": null,
      "metadata": {
        "id": "Y3mIpmFqQmN8"
      },
      "outputs": [],
      "source": [
        "## YOUR CODE HERE"
      ]
    },
    {
      "cell_type": "markdown",
      "metadata": {
        "id": "SFMQ9dDXQ_9d"
      },
      "source": [
        "### Split the dataset into training and testing sets"
      ]
    },
    {
      "cell_type": "code",
      "execution_count": null,
      "metadata": {
        "id": "yGsFt7JmQ-_t"
      },
      "outputs": [],
      "source": [
        "from sklearn.model_selection import train_test_split\n",
        "\n",
        "## YOUR CODE HERE (perform stratified sampling/splitting)"
      ]
    },
    {
      "cell_type": "markdown",
      "metadata": {
        "id": "wWH3OcS4Q3WG"
      },
      "source": [
        "### Scale the numerical features"
      ]
    },
    {
      "cell_type": "code",
      "execution_count": null,
      "metadata": {
        "id": "4MSmw-vjQ7Zz"
      },
      "outputs": [],
      "source": [
        "numerical_cols = ['age', 'trestbps', 'chol', 'thalach', 'oldpeak', 'slope']"
      ]
    },
    {
      "cell_type": "code",
      "execution_count": null,
      "metadata": {
        "id": "eTNkGDfZQ7XH"
      },
      "outputs": [],
      "source": [
        "from sklearn.preprocessing import StandardScaler\n",
        "\n",
        "## YOUR CODE HERE"
      ]
    },
    {
      "cell_type": "markdown",
      "metadata": {
        "id": "zQlt1xCbaxsX"
      },
      "source": [
        "## Building the model "
      ]
    },
    {
      "cell_type": "markdown",
      "metadata": {
        "id": "zBhmQ_q5oLIq"
      },
      "source": [
        "* Use tf.keras.layers.Input() for input layer\n",
        "* Add dense layers\n",
        "* Add dropout layers\n",
        "* Add a classification layer at the end\n"
      ]
    },
    {
      "cell_type": "code",
      "execution_count": null,
      "metadata": {
        "id": "7DWkHm9-ymp6"
      },
      "outputs": [],
      "source": [
        "# Create model\n",
        "\n",
        "## YOUR CODE HERE\n",
        "\n",
        "model.summary()"
      ]
    },
    {
      "cell_type": "code",
      "execution_count": null,
      "metadata": {
        "id": "aZvbr8v_R3Z-"
      },
      "outputs": [],
      "source": [
        "# Compile model with 'adam' optimizer, appropriate loss and metric\n",
        "\n",
        "## YOUR CODE HERE"
      ]
    },
    {
      "cell_type": "code",
      "execution_count": null,
      "metadata": {
        "id": "ZJGxCst7R3Wd"
      },
      "outputs": [],
      "source": [
        "# Perform training\n",
        "epochs=50\n",
        "batch_size=32\n",
        "validation_split=0.2\n",
        "\n",
        "model.fit(## YOUR CODE HERE)"
      ]
    },
    {
      "cell_type": "code",
      "execution_count": null,
      "metadata": {
        "id": "NTjNxzotR9lh"
      },
      "outputs": [],
      "source": [
        "# Performance on test set\n",
        "\n",
        "model.evaluate(## YOUR CODE HERE)"
      ]
    },
    {
      "cell_type": "markdown",
      "metadata": {
        "id": "ZDrBzU1jaxsY"
      },
      "source": [
        "## Inference on new data \n",
        "\n",
        "To get a prediction for a new sample, you can simply call `model.predict()`."
      ]
    },
    {
      "cell_type": "code",
      "execution_count": null,
      "metadata": {
        "id": "cpLUmchTR9i4"
      },
      "outputs": [],
      "source": [
        "# Inference on new data\n",
        "\n",
        "sample = {\n",
        "    \"age\": 60,\n",
        "    \"sex\": 1,\n",
        "    \"cp\": 1,\n",
        "    \"trestbps\": 145,\n",
        "    \"chol\": 233,\n",
        "    \"fbs\": 1,\n",
        "    \"restecg\": 2,\n",
        "    \"thalach\": 150,\n",
        "    \"exang\": 0,\n",
        "    \"oldpeak\": 2.3,\n",
        "    \"slope\": 3,\n",
        "    \"ca\": 0,\n",
        "    \"thal\": \"fixed\",\n",
        "}\n"
      ]
    },
    {
      "cell_type": "code",
      "execution_count": null,
      "metadata": {
        "id": "XA5zIR_LSIxO"
      },
      "outputs": [],
      "source": [
        "## YOUR CODE HERE"
      ]
    },
    {
      "cell_type": "markdown",
      "metadata": {
        "id": "eoWXvFmPSiaT"
      },
      "source": [
        "## Gradio Implementation\n",
        "\n",
        "Create a Gradio interface for this `Heart Disease Prediction` application. For the feature values given by the user as input, perform predcition using the trained model, and return the result back to user.\n",
        "\n",
        "Make use of gradio elements such as Textbox, Radio buttons, etc."
      ]
    },
    {
      "cell_type": "code",
      "execution_count": null,
      "metadata": {
        "id": "lIVVUYjp7VT4"
      },
      "outputs": [],
      "source": [
        "%%capture\n",
        "!pip -q install gradio"
      ]
    },
    {
      "cell_type": "code",
      "execution_count": null,
      "metadata": {
        "id": "hBSx3R9d-ZPY"
      },
      "outputs": [],
      "source": [
        "import gradio\n",
        "import gradio as gr"
      ]
    },
    {
      "cell_type": "code",
      "execution_count": null,
      "metadata": {
        "id": "n0xjbMCCDRVe"
      },
      "outputs": [],
      "source": [
        "# UI - Input components\n",
        "## YOUR CODE HERE ...\n",
        "\n",
        "\n",
        "# UI - Output component\n",
        "## YOUR CODE HERE ...\n"
      ]
    },
    {
      "cell_type": "code",
      "execution_count": null,
      "metadata": {
        "id": "WWz_AyJ-Irt1"
      },
      "outputs": [],
      "source": [
        "# Label prediction function\n",
        "\n",
        "## YOUR CODE HERE\n"
      ]
    },
    {
      "cell_type": "code",
      "execution_count": null,
      "metadata": {
        "id": "R50gAGZlIrrF"
      },
      "outputs": [],
      "source": [
        "# Create Gradio interface object and launch it with (share=True)\n",
        "\n",
        "## YOUR CODE HERE\n"
      ]
    }
  ],
  "metadata": {
    "colab": {
      "provenance": []
    },
    "kernelspec": {
      "display_name": "Python 3",
      "name": "python3"
    },
    "language_info": {
      "codemirror_mode": {
        "name": "ipython",
        "version": 3
      },
      "file_extension": ".py",
      "mimetype": "text/x-python",
      "name": "python",
      "nbconvert_exporter": "python",
      "pygments_lexer": "ipython3",
      "version": "3.7.0"
    }
  },
  "nbformat": 4,
  "nbformat_minor": 0
}
