{
 "cells": [
  {
   "cell_type": "markdown",
   "metadata": {
    "id": "w9wsH4KikGdd"
   },
   "source": [
    "## Problem Statement"
   ]
  },
  {
   "cell_type": "markdown",
   "metadata": {
    "id": "Bmh48BKlkIlm"
   },
   "source": [
    "To predict employee attrition using CatBoost and XgBoost"
   ]
  },
  {
   "cell_type": "markdown",
   "metadata": {
    "id": "8N0iS4ipU_XM"
   },
   "source": [
    "## Learning Objectives"
   ]
  },
  {
   "cell_type": "markdown",
   "metadata": {
    "id": "K8OXq65pVDDS"
   },
   "source": [
    "At the end of the experiment, you will be able to\n",
    "\n",
    "* explore the employee attrition dataset\n",
    "* apply CatBoost and XgBoost on the dataset\n",
    "* tune the model hyperparameters to improve accuracy\n",
    "* evaluate the model using suitable metrics\n"
   ]
  },
  {
   "cell_type": "markdown",
   "metadata": {
    "id": "GYxPNsZuYcGk"
   },
   "source": [
    "## Introduction\n",
    "\n",
    "Employee attrition is the gradual reduction in employee numbers. Employee attrition happens when the size of your workforce diminishes over time. This means that employees are leaving faster than they are hired. Employee attrition happens when employees retire, resign, or simply aren't replaced.\n",
    "Although employee attrition can be company-wide, it may also be confined to specific parts of a business.\n",
    "\n",
    "Employee attrition can happen for several reasons. These include unhappiness about employee benefits or the pay structure, a lack of employee development opportunities, and even poor conditions in the workplace.\n",
    "\n",
    "To know more about the factors that lead to employee attrition, refer [here](https://www.betterup.com/blog/employee-attrition#:~:text=Employee%20attrition%20is%20the%20gradual,or%20simply%20aren't%20replaced).\n"
   ]
  },
  {
   "cell_type": "markdown",
   "metadata": {
    "id": "dsJP8R-j7tO8"
   },
   "source": [
    "**Gradient Boosted Decision Trees**\n",
    "\n",
    "* Gradient boosted decision trees (GBDTs) are one of the most important machine learning models.\n",
    "\n",
    "* GBDTs originate from AdaBoost, an algorithm that ensembles weak learners and uses the majority vote, weighted by their individual accuracy, to solve binary classification problems. The weak learners in this case are decision trees with a single split, called decision stumps.\n",
    "\n",
    "* Some of the widely used gradient boosted decision trees are XgBoost, CatBoost and LightGBM."
   ]
  },
  {
   "cell_type": "markdown",
   "metadata": {
    "id": "YC0AF58YH-cn"
   },
   "source": [
    "## Dataset\n",
    "\n",
    "The dataset used for this mini-project is [HR Employee Attrition dataset](https://data.world/aaizemberg/hr-employee-attrition). This dataset is synthetically created by IBM data scientists. There are 35 features and 1470 records.\n",
    "\n",
    "There are numerical features such as:\n",
    "\n",
    "* Age\n",
    "* DistanceFromHome\n",
    "* EmployeeNumber\n",
    "* PerformanceRating\n",
    "\n",
    "There are several categorical features such as:\n",
    "* JobRole\n",
    "* EducationField\n",
    "* Department\n",
    "* BusinessTravel\n",
    "\n",
    "Dependent or target feature is 'attrition' which has values as Yes/No."
   ]
  },
  {
   "cell_type": "markdown",
   "metadata": {
    "id": "1BJzstlcLh4k"
   },
   "source": [
    "### Install Required Dependencies"
   ]
  },
  {
   "cell_type": "code",
   "execution_count": null,
   "metadata": {
    "id": "BYeUGMBZeqtL"
   },
   "outputs": [],
   "source": [
    "# Install CatBoost\n",
    "!pip -qq install catboost"
   ]
  },
  {
   "cell_type": "markdown",
   "metadata": {
    "id": "1TmXyc2bRFvM"
   },
   "source": [
    "### Import Required Packages"
   ]
  },
  {
   "cell_type": "code",
   "execution_count": null,
   "metadata": {
    "_uuid": "3f4d5f2c0b147e47776e71922cadb41524cb151b",
    "id": "v50DDzl0CEVk",
    "trusted": true
   },
   "outputs": [],
   "source": [
    "import numpy as np\n",
    "import pandas as pd\n",
    "import seaborn as sns\n",
    "from matplotlib import pyplot as plt\n",
    "from sklearn.metrics import roc_auc_score, accuracy_score, confusion_matrix, f1_score\n",
    "from sklearn.model_selection import train_test_split\n",
    "from lightgbm import LGBMClassifier\n",
    "from xgboost import XGBClassifier\n",
    "from catboost import CatBoostClassifier, metrics\n",
    "import warnings\n",
    "warnings.filterwarnings(\"ignore\")\n",
    "plt.style.use('fivethirtyeight')\n",
    "pd.set_option('display.max_columns', 100)\n",
    "%matplotlib inline"
   ]
  },
  {
   "cell_type": "markdown",
   "metadata": {
    "id": "-tBU6ZMlW0My"
   },
   "source": [
    "# Part-A"
   ]
  },
  {
   "cell_type": "markdown",
   "metadata": {
    "id": "0E7JUtgDYBDL"
   },
   "source": [
    "## Load the Dataset"
   ]
  },
  {
   "cell_type": "code",
   "execution_count": null,
   "metadata": {
    "id": "82VkFRBVSbG7"
   },
   "outputs": [],
   "source": [
    "# read the dataset\n",
    "# YOUR CODE HERE"
   ]
  },
  {
   "cell_type": "code",
   "execution_count": null,
   "metadata": {
    "id": "L6QL6HbTZLjw"
   },
   "outputs": [],
   "source": [
    "# Check the shape of dataframe.\n",
    "# YOUR CODE HERE"
   ]
  },
  {
   "cell_type": "markdown",
   "metadata": {
    "_uuid": "07244b5b58d56fb4ac89efc5541074263a150ce5",
    "id": "5JgkRXxYCEVn"
   },
   "source": [
    "## Data Exploration\n",
    "\n",
    "- Check for missing values\n",
    "- Check for features having consistent data across samples\n",
    "- Check for outliers or inconsistencies in data columns\n",
    "- Check for correlated features\n",
    "- Do we have a target label imbalance\n",
    "- How our independent variables are distributed relative to our target label\n",
    "- Are there features that have strong linear or monotonic relationships? Making correlation heatmaps makes it easy to identify possible collinearity"
   ]
  },
  {
   "cell_type": "markdown",
   "metadata": {
    "id": "WNypN2YmlpwG"
   },
   "source": [
    "**Exercise 2: Create a `List` of numerical and categorical columns. Display a statistical description of the dataset. Remove missing values (if any) **"
   ]
  },
  {
   "cell_type": "markdown",
   "metadata": {
    "id": "GuQKmcv0qLWo"
   },
   "source": [
    "**Hint:**\n",
    ">Use `for` to iterate through each column.\n",
    "\n",
    ">For statistical description display - samples count, missing values count, range, and data type of each feature."
   ]
  },
  {
   "cell_type": "code",
   "execution_count": null,
   "metadata": {
    "id": "rOHYyNvXRwHz"
   },
   "outputs": [],
   "source": [
    "# YOUR CODE HERE"
   ]
  },
  {
   "cell_type": "markdown",
   "metadata": {
    "id": "-5LDX4tYR6Vs"
   },
   "source": [
    "First, we want to get a sense of our data:\n",
    "- What features have the most divergent distributions based on target class\n",
    "- Do we have a target label imbalance\n",
    "- How our independent variables are distributed relative to our target label\n",
    "- Are there features that have strong linear or monotonic relationships, making correlation heatmaps makes it easy to identify possible colinearity"
   ]
  },
  {
   "cell_type": "markdown",
   "metadata": {
    "id": "T5mUbdCMKBP8"
   },
   "source": [
    "### Check for outliers"
   ]
  },
  {
   "cell_type": "markdown",
   "metadata": {
    "id": "cYTnAs5UqlVn"
   },
   "source": [
    "**Exercise 3: Create a box plot to check for outliers [0.5 Mark]**"
   ]
  },
  {
   "cell_type": "code",
   "execution_count": null,
   "metadata": {
    "id": "OYTxh7gtFqyC"
   },
   "outputs": [],
   "source": [
    "# Check for outliers\n",
    "# YOUR CODE HERE"
   ]
  },
  {
   "cell_type": "markdown",
   "metadata": {
    "id": "42cBMGHQQOWP"
   },
   "source": [
    "### Handling outliers"
   ]
  },
  {
   "cell_type": "markdown",
   "metadata": {
    "id": "ei63U2m7qyGA"
   },
   "source": [
    "**Exercise 4: Use lower bound as 25% and upper bound as 75% to handle the outliers**"
   ]
  },
  {
   "cell_type": "code",
   "execution_count": null,
   "metadata": {
    "id": "oT3yOFPoH0SH"
   },
   "outputs": [],
   "source": [
    "# YOUR CODE HERE"
   ]
  },
  {
   "cell_type": "code",
   "execution_count": null,
   "metadata": {
    "id": "QvrMPhTtJTYP"
   },
   "outputs": [],
   "source": [
    "# Recheck for outliers\n",
    "# YOUR CODE HERE"
   ]
  },
  {
   "cell_type": "markdown",
   "metadata": {
    "id": "_ha6PPo2iCAM"
   },
   "source": [
    "### Target label imbalance"
   ]
  },
  {
   "cell_type": "markdown",
   "metadata": {
    "id": "j17VKVdnrb3R"
   },
   "source": [
    "**Hint:** Use value_counts()"
   ]
  },
  {
   "cell_type": "code",
   "execution_count": null,
   "metadata": {
    "id": "y1gsAjfLbi2Z"
   },
   "outputs": [],
   "source": [
    "# Count of unique values in Attrition column\n",
    "# YOUR CODE HERE"
   ]
  },
  {
   "cell_type": "code",
   "execution_count": null,
   "metadata": {
    "id": "g-8bU9moco7l"
   },
   "outputs": [],
   "source": [
    "# Plot barplot to visualize balance/imbalance\n",
    "# YOUR CODE HERE"
   ]
  },
  {
   "cell_type": "markdown",
   "metadata": {
    "id": "0N7tqroWP9iQ"
   },
   "source": [
    "If there is any imbalance in the dataset then a few techniques can be utilised (optional):\n",
    "1. SMOTE\n",
    "2. Cross Validation\n",
    "3. Regularizing the model's parameters"
   ]
  },
  {
   "cell_type": "markdown",
   "metadata": {
    "id": "79pQoaQ3iOG7"
   },
   "source": [
    "###Plot pairplot"
   ]
  },
  {
   "cell_type": "markdown",
   "metadata": {
    "id": "3Hfry_Fwr5nQ"
   },
   "source": [
    "**Exercise 6: Visualize the relationships between the predictor variables and the target variable using a pairplot**"
   ]
  },
  {
   "cell_type": "markdown",
   "metadata": {
    "id": "aTBi6PLqsDbk"
   },
   "source": [
    "**Hint:** Use sns.pairplot"
   ]
  },
  {
   "cell_type": "code",
   "execution_count": null,
   "metadata": {
    "_uuid": "a7355f1c5bf552fca19d132df33d7994516873f6",
    "id": "OO9RJlfrCEVp",
    "trusted": true
   },
   "outputs": [],
   "source": [
    "# Visualize a pairplot with relevant features\n",
    "# YOUR CODE HERE"
   ]
  },
  {
   "cell_type": "markdown",
   "metadata": {
    "id": "UVKpOQqPuyew"
   },
   "source": [
    "### Explore Correlation\n",
    "\n",
    "- Plotting the Heatmap"
   ]
  },
  {
   "cell_type": "markdown",
   "metadata": {
    "id": "aIMCrjr1sNJc"
   },
   "source": [
    "**Exercise 7: Visualize the correlation among IBM employee attrition numerical features using a heatmap**"
   ]
  },
  {
   "cell_type": "code",
   "execution_count": null,
   "metadata": {
    "id": "RC7eIV-P8rbX"
   },
   "outputs": [],
   "source": [
    "# Visualize heatmap\n",
    "# YOUR CODE HERE"
   ]
  },
  {
   "cell_type": "markdown",
   "metadata": {
    "id": "_FrUYzZWawAl"
   },
   "source": [
    "Comment on the observations made with the pairplot and heatmap"
   ]
  },
  {
   "cell_type": "markdown",
   "metadata": {
    "id": "xY9mCVZ8W604"
   },
   "source": [
    "# Part-B"
   ]
  },
  {
   "cell_type": "markdown",
   "metadata": {
    "id": "oT9AhvtTQnKV"
   },
   "source": [
    "### Preparing the test feature space\n",
    "* Remove outliers if any\n",
    "* Handle the categorical feature if required\n",
    "* Other processing steps can also be followed."
   ]
  },
  {
   "cell_type": "code",
   "execution_count": null,
   "metadata": {
    "id": "vfhan6UWQ8EX"
   },
   "outputs": [],
   "source": [
    "# YOUR CODE HERE"
   ]
  },
  {
   "cell_type": "markdown",
   "metadata": {
    "id": "apS4f8aqWG71"
   },
   "source": [
    "Optional:\n",
    "Use `Hyperopt`, a hyperparameter tuning technique to identify the best set of parameters."
   ]
  },
  {
   "cell_type": "markdown",
   "metadata": {
    "id": "j-ZPcVcn9w3U"
   },
   "source": [
    "In the notebook, data processing is done separately for different models.\n",
    "Considering the fact that different models may require data in different format and in turn different processes may be followed to process the data.\n",
    "\n",
    "If the processing steps followed for the models are same, data processing can also be done once."
   ]
  },
  {
   "cell_type": "markdown",
   "metadata": {
    "_uuid": "63f0a5564f30228e710a3c1b7f7914bd986b93f1",
    "id": "5ccGpKffCEVt"
   },
   "source": [
    "## Apply CatBoost\n",
    "\n",
    "Catboost was released in 2017 by Yandex, showing, by their benchmark to be faster in prediction, better in accuracy, and easier to use for categorical data across a series of GBDT tasks. Additional capabilities of catboost include plotting feature interactions and object (row) importance.\n",
    "\n",
    "[Here](https://catboost.ai/en/docs/) is the official documentation of CatBoost"
   ]
  },
  {
   "cell_type": "markdown",
   "metadata": {
    "id": "7d7v3VlYQXGY"
   },
   "source": [
    "### Data Processing for CatBoost"
   ]
  },
  {
   "cell_type": "markdown",
   "metadata": {
    "id": "45hA2ZB9tHGW"
   },
   "source": [
    "**Exercise 8: Data processing for CatBoost **\n",
    "* **Copy the dataframe that was created after removing the outliers**\n",
    "* **Handle the categorical features if required**\n",
    "* **Create target column and feature space**"
   ]
  },
  {
   "cell_type": "markdown",
   "metadata": {
    "id": "plxqVIWHt_9M"
   },
   "source": [
    "**Hint:** Column containing the information on attrition will be the target column."
   ]
  },
  {
   "cell_type": "code",
   "execution_count": null,
   "metadata": {
    "id": "V_mmH_ltZPvP"
   },
   "outputs": [],
   "source": [
    "# Copy the data\n",
    "# YOUR CODE HERE"
   ]
  },
  {
   "cell_type": "code",
   "execution_count": null,
   "metadata": {
    "id": "f-0M3uWuZs_B"
   },
   "outputs": [],
   "source": [
    "# Target Column\n",
    "# YOUR CODE HERE"
   ]
  },
  {
   "cell_type": "code",
   "execution_count": null,
   "metadata": {
    "id": "icGflPlLaBre"
   },
   "outputs": [],
   "source": [
    "# Feature Space\n",
    "# YOUR CODE HERE"
   ]
  },
  {
   "cell_type": "markdown",
   "metadata": {
    "id": "s0Z0cbeS4BrT"
   },
   "source": [
    "### Model Definition"
   ]
  },
  {
   "cell_type": "markdown",
   "metadata": {
    "id": "Bphb_wNwupwi"
   },
   "source": [
    "**Exercise 9: Define, train the model and display the results**"
   ]
  },
  {
   "cell_type": "markdown",
   "metadata": {
    "id": "K2e980Yyu3oJ"
   },
   "source": [
    "**Hint:**\n",
    "* Use CatBoostClassifier() to define the model with relevant parameters.\n",
    "* Use `fit` to fit the data to the model. Refer [here](https://catboost.ai/en/docs/concepts/speed-up-training) to see some ways to speedup CatBoost training.\n",
    "* Evaluate the model using roc_auc_score, accuracy_score, f1_score, predict methods or other relevant techniques."
   ]
  },
  {
   "cell_type": "code",
   "execution_count": null,
   "metadata": {
    "id": "kIMPGCfMDIZR"
   },
   "outputs": [],
   "source": [
    "# Create CatBoost model\n",
    "# YOUR CODE HERE"
   ]
  },
  {
   "cell_type": "code",
   "execution_count": null,
   "metadata": {
    "id": "nkRYWmGfDMu-"
   },
   "outputs": [],
   "source": [
    "# Model training\n",
    "# YOUR CODE HERE"
   ]
  },
  {
   "cell_type": "markdown",
   "metadata": {
    "id": "stov-GDTGrOw"
   },
   "source": [
    "### Model performance"
   ]
  },
  {
   "cell_type": "code",
   "execution_count": null,
   "metadata": {
    "id": "1k6sOOU-FNs7"
   },
   "outputs": [],
   "source": [
    "# Model performance on all sets\n",
    "# YOUR CODE HERE"
   ]
  },
  {
   "cell_type": "markdown",
   "metadata": {
    "id": "_hk4Kw5QGXCU"
   },
   "source": [
    "## Apply XGBoost\n",
    "\n",
    "XGBoost is a workhorse gradient boosted decision tree algorithm. Its been around since 2014 and has come to dominate the Kaggle and data science community. XGB introduced gradient boosting where new models are fit to the residuals of prior models and then added together, using a gradient descent algorithm to minimize the loss.\n",
    "\n",
    "Read [here](https://xgboost.readthedocs.io/en/stable/parameter.html) on XGBoost parameters.\n",
    "\n",
    "Refer [here](https://xgboost.readthedocs.io/en/stable/python/python_api.html#xgboost.XGBClassifier) for the official documentation of XGBoost classifier."
   ]
  },
  {
   "cell_type": "markdown",
   "metadata": {
    "id": "3KbfDzqudx5H"
   },
   "source": [
    "### Data Processing for XGBoost\n"
   ]
  },
  {
   "cell_type": "markdown",
   "metadata": {
    "id": "Yk6NedArvxbn"
   },
   "source": [
    "**Exercise 10: Data Processing for XGBoost **\n",
    "* **Copy the dataframe after the outliers were removed.**\n",
    "* **Handle the categorical features if required**\n",
    "* **Create target column and feature space**"
   ]
  },
  {
   "cell_type": "code",
   "execution_count": null,
   "metadata": {
    "id": "wT2RVw4JTAGp"
   },
   "outputs": [],
   "source": [
    "# Copy dataframe\n",
    "# YOUR CODE HERE"
   ]
  },
  {
   "cell_type": "markdown",
   "metadata": {
    "id": "jeTPMeNlwP2e"
   },
   "source": [
    "**Hint:** Use pd.get_dummies"
   ]
  },
  {
   "cell_type": "code",
   "execution_count": null,
   "metadata": {
    "id": "QX1wnlPFWViw"
   },
   "outputs": [],
   "source": [
    "# Handling categorical features\n",
    "# YOUR CODE HERE"
   ]
  },
  {
   "cell_type": "code",
   "execution_count": null,
   "metadata": {
    "id": "f-K7vfixWup8"
   },
   "outputs": [],
   "source": [
    "# Concat the dummy variables to actual dataframe and remove initial categorical columns\n",
    "# YOUR CODE HERE"
   ]
  },
  {
   "cell_type": "markdown",
   "metadata": {
    "id": "usRVCrd5wkC1"
   },
   "source": [
    "When creating the dummy variables, the name of attrition column was changed, rename to 'attrition' again."
   ]
  },
  {
   "cell_type": "markdown",
   "metadata": {
    "id": "OnyrNF9Fw2eS"
   },
   "source": [
    "**Hint:** Use .rename"
   ]
  },
  {
   "cell_type": "code",
   "execution_count": null,
   "metadata": {
    "id": "sCkr7gvLXxLs"
   },
   "outputs": [],
   "source": [
    "# Rename target column\n",
    "# YOUR CODE HERE"
   ]
  },
  {
   "cell_type": "code",
   "execution_count": null,
   "metadata": {
    "id": "SA-WIpLAX3KH"
   },
   "outputs": [],
   "source": [
    "# Feature Space\n",
    "# YOUR CODE HERE\n",
    "\n",
    "# Target label\n",
    "# YOUR CODE HERE"
   ]
  },
  {
   "cell_type": "markdown",
   "metadata": {
    "id": "ccLyB9J04hDF"
   },
   "source": [
    "### Model Definition"
   ]
  },
  {
   "cell_type": "markdown",
   "metadata": {
    "id": "-LFyiv0Mxcl-"
   },
   "source": [
    "**Hint:**\n",
    "* Use XGBClassifier() to define the model with relevant parameters.\n",
    "* Use `fit` to fit the data to the model.\n",
    "* Evaluate the model using roc_auc_score, accuracy_score, f1_score, predict methods or other relevant techniques."
   ]
  },
  {
   "cell_type": "code",
   "execution_count": null,
   "metadata": {
    "id": "nxtvfYpzVxTc"
   },
   "outputs": [],
   "source": [
    "# Create XGBoost classifier model\n",
    "# YOUR CODE HERE"
   ]
  },
  {
   "cell_type": "code",
   "execution_count": null,
   "metadata": {
    "id": "hrN85N3X_Sar"
   },
   "outputs": [],
   "source": [
    "# Model training\n",
    "# YOUR CODE HERE"
   ]
  },
  {
   "cell_type": "markdown",
   "metadata": {
    "id": "cA5ZK31mPox1"
   },
   "source": [
    "### Model Performance"
   ]
  },
  {
   "cell_type": "code",
   "execution_count": null,
   "metadata": {
    "id": "wQXg9FhcmwIw"
   },
   "outputs": [],
   "source": [
    "# Model performance on all sets\n",
    "# YOUR CODE HERE"
   ]
  },
  {
   "cell_type": "markdown",
   "metadata": {
    "_uuid": "d1aa61b46b4cc4966124e75394f6f5a1e585f3cc",
    "id": "8Iki__IJCEVs"
   },
   "source": [
    "## Apply LightGBM (Optional)\n",
    "\n",
    "LightGBM is an open-source GBDT framework created by Microsoft as a fast and scalable alternative to XGB and GBM. By default LightGBM will train a Gradient Boosted Decision Tree (GBDT), but it also supports random forests, Dropouts meet Multiple Additive Regression Trees (DART), and Gradient Based One-Side Sampling (Goss).\n",
    "\n",
    "To know more about LightGBM parameters, refer [here](https://lightgbm.readthedocs.io/en/latest/pythonapi/lightgbm.LGBMClassifier.html#lightgbm.LGBMClassifier)."
   ]
  },
  {
   "cell_type": "markdown",
   "metadata": {
    "id": "QGVwrT59tEx_"
   },
   "source": [
    "### Feature Engineering for LightGBM"
   ]
  },
  {
   "cell_type": "code",
   "execution_count": null,
   "metadata": {
    "id": "eYq9Z02Bs4-x"
   },
   "outputs": [],
   "source": [
    "## Following the same procedure as followed in XGBoost\n",
    "\n",
    "# Copy the dataframe\n",
    "# YOUR CODE HERE\n",
    "\n",
    "# Handling categorical features\n",
    "# YOUR CODE HERE\n",
    "\n",
    "# Concat the dummy variables to actual dataframe and remove initial categorical columns\n",
    "# YOUR CODE HERE\n",
    "\n",
    "# Rename target column\n",
    "# YOUR CODE HERE\n",
    "\n",
    "# Features Space\n",
    "# YOUR CODE HERE\n",
    "\n",
    "# Target Label\n",
    "# YOUR CODE HERE"
   ]
  },
  {
   "cell_type": "markdown",
   "metadata": {
    "id": "HNxN3-gU4ZWn"
   },
   "source": [
    "### Model Definition"
   ]
  },
  {
   "cell_type": "markdown",
   "metadata": {
    "id": "lrZlE4IJydou"
   },
   "source": [
    "**Hint:**\n",
    "* Use LGBMClassifier() to define the model with relevant parameters.\n",
    "* Use `fit` to fit the data to the model.\n",
    "* Evaluate the model using roc_auc_score, accuracy_score, f1_score, predict methods or other relevant techniques."
   ]
  },
  {
   "cell_type": "code",
   "execution_count": null,
   "metadata": {
    "id": "4fWl23dHXHAP"
   },
   "outputs": [],
   "source": [
    "# Create LightGBM classifier model\n",
    "# YOUR CODE HERE"
   ]
  },
  {
   "cell_type": "code",
   "execution_count": null,
   "metadata": {
    "id": "5FktD02ntN1T"
   },
   "outputs": [],
   "source": [
    "# Model training\n",
    "# YOUR CODE HERE"
   ]
  },
  {
   "cell_type": "markdown",
   "metadata": {
    "id": "upM6hxP_SbPw"
   },
   "source": [
    "### Model performance"
   ]
  },
  {
   "cell_type": "code",
   "execution_count": null,
   "metadata": {
    "id": "mmM2WvTGSd_l"
   },
   "outputs": [],
   "source": [
    "# Model performance on all sets\n",
    "# YOUR CODE HERE"
   ]
  },
  {
   "cell_type": "markdown",
   "metadata": {
    "_uuid": "33789095f30bba0c1ae0d9c5c78207ba4014800b",
    "id": "18zLjk0qCEVu"
   },
   "source": [
    "## Results"
   ]
  },
  {
   "cell_type": "markdown",
   "metadata": {
    "id": "nWQkWdRmzQ6n"
   },
   "source": [
    "**Hint:** Use pd.DataFrame"
   ]
  },
  {
   "cell_type": "code",
   "execution_count": null,
   "metadata": {
    "_uuid": "8c99bac7c8c6302c2d2fb6e00f1f17453d972265",
    "id": "qFGMmqS-CEVu",
    "trusted": true
   },
   "outputs": [],
   "source": [
    "# Create a dataframe for computed metrics for different models\n",
    "# YOUR CODE HERE"
   ]
  },
  {
   "cell_type": "markdown",
   "metadata": {
    "id": "tWJ9p6CSfxAH"
   },
   "source": [
    "Reference reading:\n",
    "1. https://machinelearningmastery.com/xgboost-for-imbalanced-classification/"
   ]
  }
 ],
 "metadata": {
  "accelerator": "GPU",
  "colab": {
   "provenance": []
  },
  "gpuClass": "standard",
  "kernelspec": {
   "display_name": "Python 3",
   "language": "python",
   "name": "python3"
  },
  "language_info": {
   "codemirror_mode": {
    "name": "ipython",
    "version": 3
   },
   "file_extension": ".py",
   "mimetype": "text/x-python",
   "name": "python",
   "nbconvert_exporter": "python",
   "pygments_lexer": "ipython3",
   "version": "3.6.6"
  }
 },
 "nbformat": 4,
 "nbformat_minor": 0
}
